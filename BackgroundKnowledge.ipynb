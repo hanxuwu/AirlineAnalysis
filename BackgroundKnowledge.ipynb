{
 "cells": [
  {
   "cell_type": "markdown",
   "metadata": {},
   "source": [
    "GDS:  Global Distribution System  \n",
    "NDC:  New Distributed Capability  \n",
    "CRS:  Customer Reservation Systems  \n",
    "PNR:  Passenger Name Record  \n",
    "ADM:  Agency Debit Memo Policy   \n",
    "BIDT: Booking Information Data Tapes  \n",
    "MIDT: Marketing Information Data Tapes  \n",
    "ORA:  Operational Research and Analysis"
   ]
  },
  {
   "cell_type": "markdown",
   "metadata": {},
   "source": [
    "GDS-NDC  \n",
    "https://blog.yieldr.com/what-is-the-new-distribution-capability-ndc/"
   ]
  },
  {
   "cell_type": "markdown",
   "metadata": {},
   "source": [
    "Amadeus:\n",
    "\n",
    "https://github.com/amadeus4dev/amadeus-python\n",
    "    \n",
    "https://developers.amadeus.com/self-service\n",
    "\n",
    "Bsplink:\n",
    "\n",
    "https://www.bsplink.iata.org/bsplink14/entrada/BSPL_E_MAN.html\n",
    "\n",
    "United:  \n",
    "https://www.united.com/web/zh-CN/content/agency/bookticket/bookticketpolicy.aspx"
   ]
  },
  {
   "cell_type": "markdown",
   "metadata": {},
   "source": [
    "Accelya’s BIDT Audit service helps airlines achieve the following:\n",
    "\n",
    "* Cost Transparency, by better understanding of the GDS invoices and costs\n",
    "* Cost Accountability, by better tracking of the efficiency in distribution costs usage\n",
    "* Cost Empowerment, by identifying who is abusing the policies, what are the corrective measures that can be taken to prevent airlines losses, and the consequences of not adhering to these measures\n",
    "* Leakage Recovery, by raising ADMs (Agency Debit Memos) for the booking abuses when the airline policy is not complied with\n",
    "\n",
    "Reference:\n",
    "https://w3.accelya.com/accelyas-bidt-audit-service-to-help-airlines-prevent-gds-cost-leakages"
   ]
  },
  {
   "cell_type": "markdown",
   "metadata": {},
   "source": [
    "BIDT--> Import of all BIDT --> Netted(Booking Matched to cancellations)\n",
    "\n",
    "Amadeus,Sabre,Travelport\n",
    "\n",
    "enhance capabilities to detect non-productive segments that increasing the monthly GDS fees\n",
    "\n",
    "* Duplicate Booking\n",
    "* Fake Names\n",
    "* Churning\n",
    "* Waitlist\n",
    "* Non-value added bookings\n",
    "* Cancel Request"
   ]
  },
  {
   "cell_type": "markdown",
   "metadata": {},
   "source": [
    "## Zeus -- Airlogica\n",
    "\n",
    "Revenue Integrity\n",
    "BIDT Auditing\n",
    "Inventory Control\n",
    "Non-Productive GDS Costs\n",
    "\n",
    "Analyze the data and identify the productive segments\n",
    "transmit the ADM to IATA BSP LINK  OR ARC\n",
    "remove the abusive or duplicate bookings\n",
    "identify the less productive agency lower the GDS fee\n",
    "\n",
    "Create the Summary and Report as per airlines policy\n",
    "Produce ADM file\n",
    "send files to any BSP country"
   ]
  },
  {
   "cell_type": "markdown",
   "metadata": {},
   "source": [
    "## Accelya Group\n",
    "BIDT GDS\n",
    "\n",
    "airline prevent the incorrect GDS and inventory abuse\n",
    "\n",
    "start by identify the violations of booking policies then create ADM for airline approve, then directly send to the travel agentss\n",
    "\n",
    "Compare the GDS invoices against the BIDT data and identify the incorrect invoices,for claim the undue GDS charges\n",
    "\n",
    "intelligence dashboard enable to monitor and control GDS cost"
   ]
  },
  {
   "cell_type": "markdown",
   "metadata": {},
   "source": [
    "## Ascension\n",
    "\n",
    "Why Audit?  \n",
    "\n",
    "With the expansion of distribution channels \n",
    "\n",
    "the complexity of distribution costs\n",
    "\n",
    "you need immediate access to detailed information, particularly when it comes to managing costs, utilising market intelligence and efficiently processing data. \n",
    "\n",
    "analyse GDS invoices \n",
    "\n",
    "activities of your whole distribution network.\n",
    "\n",
    "\n",
    "Audit Delivers\n",
    "Audit delivers information directly to your marketing, distribution, finance and sales departments to help them better manage overall distribution relationships.\n",
    "\n",
    "With Audit you can:\n",
    "\n",
    "Lower your distribution costs by identifying expensive and non-productive booking practices.\n",
    "\n",
    "Validate complex GDS billing and identify billing errors for potential reclamation.\n",
    "\n",
    "Identify agencies that are eroding your revenue by increasing GDS costs and blocking seats from inventory.\n",
    "\n",
    "Turn GDS data into a powerful source of market intelligence by determining which market segments are the most profitable.\n",
    "\n",
    "Empower your sales team to increase revenue by directing business to the most profitable agencies.\n",
    "\n",
    "Run more than 50 standard reports, create an unlimited number of custom reports and accommodate an unlimited number of users."
   ]
  },
  {
   "cell_type": "markdown",
   "metadata": {},
   "source": [
    "## Travelsky"
   ]
  },
  {
   "cell_type": "markdown",
   "metadata": {},
   "source": [
    "https://www.biaodianfu.com/gds.html  \n",
    "https://www.traveldaily.cn/article/92115  "
   ]
  },
  {
   "cell_type": "markdown",
   "metadata": {},
   "source": [
    "# NDC"
   ]
  },
  {
   "cell_type": "markdown",
   "metadata": {},
   "source": [
    "Airlines：  differentiated marketing,Distribution costs,Precision marketing\n"
   ]
  },
  {
   "cell_type": "code",
   "execution_count": 11,
   "metadata": {},
   "outputs": [
    {
     "name": "stdout",
     "output_type": "stream",
     "text": [
      "IndType\n",
      "NumberType\n",
      "AckType\n",
      "CodeType\n",
      "DateTimeType\n",
      "IATA_PayloadStandardAttributesType\n",
      "ID_Type\n",
      "MessageDocType\n",
      "NameType\n",
      "TextType\n"
     ]
    }
   ],
   "source": [
    "import xmlschema\n",
    "from pprint import pprint\n",
    "xs = xmlschema.XMLSchema('./19.1-schemas-edist/19_1_IATA_IndustryDistributionStandards/IATA_Acknowledgement.XSD')\n",
    "#pprint(xs.to_dict('./19.1-schemas-edist/19_1_IATA_IndustryDistributionStandards/IATA_Acknowledgement.xml'))\n",
    "for i in xs.types:\n",
    "    print(i)"
   ]
  },
  {
   "cell_type": "code",
   "execution_count": 12,
   "metadata": {},
   "outputs": [
    {
     "name": "stdout",
     "output_type": "stream",
     "text": [
      "{'IATA_Acknowledgement': XsdElement(name='IATA_Acknowledgement', occurs=[1, 1])}\n"
     ]
    }
   ],
   "source": [
    "pprint(dict(xs.elements))"
   ]
  },
  {
   "cell_type": "code",
   "execution_count": 15,
   "metadata": {},
   "outputs": [
    {
     "name": "stdout",
     "output_type": "stream",
     "text": [
      "['{http://www.iata.org/IATA/2015/00/2019.1/IATA_Acknowledgement}AckType',\n",
      " '{http://www.iata.org/IATA/2015/00/2019.1/IATA_Acknowledgement}CodeType',\n",
      " '{http://www.iata.org/IATA/2015/00/2019.1/IATA_Acknowledgement}DateTimeType',\n",
      " '{http://www.iata.org/IATA/2015/00/2019.1/IATA_Acknowledgement}IATA_PayloadStandardAttributesType',\n",
      " '{http://www.iata.org/IATA/2015/00/2019.1/IATA_Acknowledgement}ID_Type']\n"
     ]
    }
   ],
   "source": [
    "pprint(sorted(xs.maps.types.keys())[:5])"
   ]
  },
  {
   "cell_type": "code",
   "execution_count": 25,
   "metadata": {},
   "outputs": [
    {
     "name": "stdout",
     "output_type": "stream",
     "text": [
      "['{http://www.iata.org/IATA/2015/00/2019.1/IATA_Acknowledgement}IATA_Acknowledgement',\n",
      " '{http://www.w3.org/1999/xlink}arc',\n",
      " '{http://www.w3.org/1999/xlink}locator',\n",
      " '{http://www.w3.org/1999/xlink}resource',\n",
      " '{http://www.w3.org/1999/xlink}title',\n",
      " '{http://www.w3.org/2001/XMLSchema}all',\n",
      " '{http://www.w3.org/2001/XMLSchema}annotation',\n",
      " '{http://www.w3.org/2001/XMLSchema}any',\n",
      " '{http://www.w3.org/2001/XMLSchema}anyAttribute',\n",
      " '{http://www.w3.org/2001/XMLSchema}appinfo']\n"
     ]
    }
   ],
   "source": [
    "pprint(sorted(xs.maps.elements.keys())[:10])"
   ]
  },
  {
   "cell_type": "code",
   "execution_count": 28,
   "metadata": {},
   "outputs": [
    {
     "data": {
      "text/plain": [
       "<bound method XsdComplexType.decode of XsdComplexType(name='AckType')>"
      ]
     },
     "execution_count": 28,
     "metadata": {},
     "output_type": "execute_result"
    }
   ],
   "source": [
    "xs.types['AckType'].decode"
   ]
  },
  {
   "cell_type": "markdown",
   "metadata": {},
   "source": [
    "## Air Status Code"
   ]
  },
  {
   "cell_type": "markdown",
   "metadata": {},
   "source": [
    "## http://www.wenlvpai.com/7758.html"
   ]
  },
  {
   "cell_type": "markdown",
   "metadata": {},
   "source": [
    "### Reservation Booking Designator (RBD) violation\n",
    "\n",
    "* Validation on booked vs. ticketed data where there is a mismatch between ticketed and booked RBD\n",
    "\n",
    "### Excessive Churning\n",
    "\n",
    "* Verification on agency rebooking a segment or segments canceled either by the agency or airline four (4) or more times in one PNR or across different PNRs.\n",
    "\n",
    "### Duplicate segments\n",
    "\n",
    "* Verification on agency created duplicate segments\n",
    "\n",
    "### Inactive bookings\n",
    "\n",
    "* Verification on agency bookings with segment status HX/UN/NO/UC/US etc. otherwise known as non-productive segments.\n",
    "HX\tCancel confirm hold   \n",
    "UN\tUnable - no flight   \n",
    "US\tUnable to sell  \n",
    "NO\tNo action taken  \n",
    "UC\tUnable conf. or wait  \n",
    "\n",
    "\n",
    "### Minimum Connecting Time (MCT) violation with OAL\n",
    "\n",
    "* Verification on bookings that undercut required MCT  \n",
    "\n",
    "### Fictitious names\n",
    "\n",
    "* Verification on bookings created with fictitious names  \n",
    "\n",
    "### Speculative bookings\n",
    "\n",
    "\n",
    "* Bookings made when no definite passengers exists, in anticipation of possible sale\n",
    "\n",
    "* Bookings created in higher classes that are released close to departure to make seats available in lower classes\n",
    "\n",
    "### POC (Point Of  Commencement) violation\n",
    "\n",
    "* Creation of segment (s) not in the right booking sequence as per the journey passenger intends to travel, with the intention to circumvent inventory to obtain seats in RBD (s) which may have not been available when the same was requested"
   ]
  },
  {
   "cell_type": "code",
   "execution_count": null,
   "metadata": {},
   "outputs": [],
   "source": []
  }
 ],
 "metadata": {
  "kernelspec": {
   "display_name": "Python 3",
   "language": "python",
   "name": "python3"
  },
  "language_info": {
   "codemirror_mode": {
    "name": "ipython",
    "version": 3
   },
   "file_extension": ".py",
   "mimetype": "text/x-python",
   "name": "python",
   "nbconvert_exporter": "python",
   "pygments_lexer": "ipython3",
   "version": "3.6.4"
  }
 },
 "nbformat": 4,
 "nbformat_minor": 2
}
