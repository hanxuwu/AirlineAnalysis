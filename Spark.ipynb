{
 "cells": [
  {
   "cell_type": "markdown",
   "metadata": {},
   "source": [
    "https://zhuanlan.zhihu.com/p/51456295"
   ]
  },
  {
   "cell_type": "code",
   "execution_count": 1,
   "metadata": {},
   "outputs": [
    {
     "data": {
      "text/plain": [
       "Intitializing Scala interpreter ..."
      ]
     },
     "metadata": {},
     "output_type": "display_data"
    },
    {
     "data": {
      "text/plain": [
       "Spark Web UI available at http://10.0.0.161:4040\n",
       "SparkContext available as 'sc' (version = 2.3.1, master = local[*], app id = local-1565397775731)\n",
       "SparkSession available as 'spark'\n"
      ]
     },
     "metadata": {},
     "output_type": "display_data"
    },
    {
     "data": {
      "text/plain": [
       "res0: org.apache.spark.sql.SparkSession = org.apache.spark.sql.SparkSession@562f5d61\n"
      ]
     },
     "execution_count": 1,
     "metadata": {},
     "output_type": "execute_result"
    }
   ],
   "source": [
    "spark"
   ]
  },
  {
   "cell_type": "code",
   "execution_count": 3,
   "metadata": {},
   "outputs": [
    {
     "data": {
      "text/plain": [
       "res2: Class[_ <: org.apache.spark.sql.SparkSession] = class org.apache.spark.sql.SparkSession\n"
      ]
     },
     "execution_count": 3,
     "metadata": {},
     "output_type": "execute_result"
    }
   ],
   "source": [
    "spark.getClass"
   ]
  },
  {
   "cell_type": "code",
   "execution_count": 4,
   "metadata": {},
   "outputs": [
    {
     "data": {
      "text/plain": [
       "res3: Class[_ <: org.apache.spark.SparkContext] = class org.apache.spark.SparkContext\n"
      ]
     },
     "execution_count": 4,
     "metadata": {},
     "output_type": "execute_result"
    }
   ],
   "source": [
    "sc.getClass"
   ]
  },
  {
   "cell_type": "code",
   "execution_count": 8,
   "metadata": {},
   "outputs": [
    {
     "name": "stdout",
     "output_type": "stream",
     "text": [
      "(n,27313)\n",
      "(a,86000)\n",
      "(b,46001)\n",
      "(o,43712)\n",
      "(c,34982)\n",
      "(p,28057)\n",
      "(q,2388)\n",
      "(r,15234)\n",
      "(s,75194)\n",
      "(d,39173)\n",
      "(t,127781)\n",
      "(u,9230)\n",
      "(v,5802)\n",
      "(e,20408)\n",
      "(w,60097)\n",
      "(x,14)\n",
      "(f,37186)\n",
      "(y,25926)\n",
      "(z,79)\n",
      "(g,21167)\n",
      "(h,61029)\n",
      "(i,62420)\n",
      "(j,3372)\n",
      "(k,9535)\n",
      "(l,32389)\n",
      "(m,56252)\n"
     ]
    },
    {
     "data": {
      "text/plain": [
       "textFile: org.apache.spark.rdd.RDD[String] = pg100.txt MapPartitionsRDD[3] at textFile at <console>:25\r\n",
       "words: org.apache.spark.rdd.RDD[String] = MapPartitionsRDD[4] at flatMap at <console>:26\r\n",
       "counts: org.apache.spark.rdd.RDD[(Char, Int)] = ShuffledRDD[12] at sortByKey at <console>:28\n"
      ]
     },
     "execution_count": 8,
     "metadata": {},
     "output_type": "execute_result"
    }
   ],
   "source": [
    "val textFile = sc.textFile(\"pg100.txt\")\n",
    "val words = textFile.flatMap(_.split(\"[\\\\s*$&#/\\\"'\\\\,.:;?!\\\\[\\\\](){}<>~\\\\-_]+\"))\n",
    "val counts = words.filter(x => x.length >= 1).map(x => x.toLowerCase).\n",
    "      filter(x => x.charAt(0) <= 'z' && x.charAt(0) >= 'a').map(x => (x.charAt(0), 1)).reduceByKey(_+_).sortByKey()\n",
    "\n",
    "counts.foreach(println)"
   ]
  },
  {
   "cell_type": "code",
   "execution_count": null,
   "metadata": {},
   "outputs": [],
   "source": []
  }
 ],
 "metadata": {
  "kernelspec": {
   "display_name": "spylon-kernel",
   "language": "scala",
   "name": "spylon-kernel"
  },
  "language_info": {
   "codemirror_mode": "text/x-scala",
   "file_extension": ".scala",
   "help_links": [
    {
     "text": "MetaKernel Magics",
     "url": "https://metakernel.readthedocs.io/en/latest/source/README.html"
    }
   ],
   "mimetype": "text/x-scala",
   "name": "scala",
   "pygments_lexer": "scala",
   "version": "0.4.1"
  }
 },
 "nbformat": 4,
 "nbformat_minor": 2
}
