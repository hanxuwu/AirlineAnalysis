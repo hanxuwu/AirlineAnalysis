{
 "cells": [
  {
   "cell_type": "code",
   "execution_count": 1,
   "metadata": {},
   "outputs": [
    {
     "data": {
      "text/plain": [
       "Intitializing Scala interpreter ..."
      ]
     },
     "metadata": {},
     "output_type": "display_data"
    },
    {
     "data": {
      "text/plain": [
       "Spark Web UI available at http://10.0.0.161:4041\n",
       "SparkContext available as 'sc' (version = 2.3.1, master = local[*], app id = local-1565399280453)\n",
       "SparkSession available as 'spark'\n"
      ]
     },
     "metadata": {},
     "output_type": "display_data"
    },
    {
     "name": "stdout",
     "output_type": "stream",
     "text": [
      "2019-08-10 11:08:09 WARN  SparkContext:66 - Using an existing SparkContext; some configuration may not take effect.\r\n"
     ]
    },
    {
     "data": {
      "text/plain": [
       "import java.nio.file.Paths\r\n",
       "import org.apache.spark.sql._\r\n",
       "import org.apache.spark.sql.types._\r\n",
       "import org.apache.spark.sql.SparkSession\r\n",
       "import org.apache.spark.sql.functions._\r\n",
       "spark: org.apache.spark.sql.SparkSession = org.apache.spark.sql.SparkSession@428d9ee6\r\n",
       "import spark.implicits._\n"
      ]
     },
     "execution_count": 1,
     "metadata": {},
     "output_type": "execute_result"
    }
   ],
   "source": [
    "import java.nio.file.Paths\n",
    "import org.apache.spark.sql._\n",
    "import org.apache.spark.sql.types._\n",
    "import org.apache.spark.sql.SparkSession\n",
    "import org.apache.spark.sql.functions._\n",
    "//now create session\n",
    "val spark: org.apache.spark.sql.SparkSession = SparkSession\n",
    "      .builder()\n",
    "      .appName(\"Amadeus challenge\")\n",
    "      .config(\"spark.master\", \"local\")\n",
    "      .getOrCreate()\n",
    "\n",
    "import spark.implicits._"
   ]
  },
  {
   "cell_type": "code",
   "execution_count": 2,
   "metadata": {},
   "outputs": [
    {
     "data": {
      "text/plain": [
       "configMap: Map[String,String] = Map(spark.driver.host -> 10.0.0.161, spark.serializer.objectStreamReset -> 100, spark.driver.port -> 50953, spark.rdd.compress -> True, spark.repl.class.uri -> spark://10.0.0.161:50953/classes, spark.repl.class.outputDir -> C:\\Users\\HANXU\\AppData\\Local\\Temp\\tmpciezkr3t, spark.app.name -> Amadeus challenge, spark.ui.showConsoleProgress -> true, spark.executor.id -> driver, spark.submit.deployMode -> client, spark.master -> local, spark.executor.memory -> 3g, spark.app.id -> local-1565399280453, spark.sql.shuffle.partitions -> 2)\n"
      ]
     },
     "execution_count": 2,
     "metadata": {},
     "output_type": "execute_result"
    }
   ],
   "source": [
    "//set new runtime options\n",
    "spark.conf.set(\"spark.sql.shuffle.partitions\", 2)\n",
    "spark.conf.set(\"spark.executor.memory\", \"3g\")\n",
    "//get all settings\n",
    "val configMap:Map[String, String] = spark.conf.getAll"
   ]
  },
  {
   "cell_type": "code",
   "execution_count": 4,
   "metadata": {},
   "outputs": [
    {
     "data": {
      "text/plain": [
       "root_path: String = ./\r\n",
       "searches_path: String = ./searches_sample.csv.bz2\r\n",
       "bookings_path: String = ./bookings_sample.csv.bz2\n"
      ]
     },
     "execution_count": 4,
     "metadata": {},
     "output_type": "execute_result"
    }
   ],
   "source": [
    "val root_path: String = \"./\";//where to find files\n",
    "val searches_path: String = root_path + \"searches_sample.csv.bz2\";\n",
    "val bookings_path: String = root_path + \"bookings_sample.csv.bz2\";"
   ]
  },
  {
   "cell_type": "code",
   "execution_count": 6,
   "metadata": {},
   "outputs": [
    {
     "data": {
      "text/plain": [
       "df1: org.apache.spark.sql.DataFrame = [Date: string, Time: string ... 43 more fields]\r\n",
       "df2: org.apache.spark.sql.DataFrame = [act_date           : string, source: string ... 36 more fields]\n"
      ]
     },
     "execution_count": 6,
     "metadata": {},
     "output_type": "execute_result"
    }
   ],
   "source": [
    "val df1=spark.read.option(\"sep\", \"^\").option(\"header\", \"true\").option(\"inferSchema\", \"false\").csv(searches_path)\n",
    "val df2=spark.read.option(\"sep\", \"^\").option(\"header\", \"true\").option(\"inferSchema\", \"false\").csv(bookings_path)"
   ]
  },
  {
   "cell_type": "code",
   "execution_count": 7,
   "metadata": {},
   "outputs": [
    {
     "name": "stdout",
     "output_type": "stream",
     "text": [
      "root\n",
      " |-- act_date           : string (nullable = true)\n",
      " |-- source: string (nullable = true)\n",
      " |-- pos_ctry: string (nullable = true)\n",
      " |-- pos_iata: string (nullable = true)\n",
      " |-- pos_oid  : string (nullable = true)\n",
      " |-- rloc          : string (nullable = true)\n",
      " |-- cre_date           : string (nullable = true)\n",
      " |-- duration: string (nullable = true)\n",
      " |-- distance: string (nullable = true)\n",
      " |-- dep_port: string (nullable = true)\n",
      " |-- dep_city: string (nullable = true)\n",
      " |-- dep_ctry: string (nullable = true)\n",
      " |-- arr_port: string (nullable = true)\n",
      " |-- arr_city: string (nullable = true)\n",
      " |-- arr_ctry: string (nullable = true)\n",
      " |-- lst_port: string (nullable = true)\n",
      " |-- lst_city: string (nullable = true)\n",
      " |-- lst_ctry: string (nullable = true)\n",
      " |-- brd_port: string (nullable = true)\n",
      " |-- brd_city: string (nullable = true)\n",
      " |-- brd_ctry: string (nullable = true)\n",
      " |-- off_port: string (nullable = true)\n",
      " |-- off_city: string (nullable = true)\n",
      " |-- off_ctry: string (nullable = true)\n",
      " |-- mkt_port: string (nullable = true)\n",
      " |-- mkt_city: string (nullable = true)\n",
      " |-- mkt_ctry: string (nullable = true)\n",
      " |-- intl: string (nullable = true)\n",
      " |-- route          : string (nullable = true)\n",
      " |-- carrier: string (nullable = true)\n",
      " |-- bkg_class: string (nullable = true)\n",
      " |-- cab_class: string (nullable = true)\n",
      " |-- brd_time           : string (nullable = true)\n",
      " |-- off_time           : string (nullable = true)\n",
      " |-- pax: string (nullable = true)\n",
      " |-- year: string (nullable = true)\n",
      " |-- month: string (nullable = true)\n",
      " |-- oid      : string (nullable = true)\n",
      "\n"
     ]
    }
   ],
   "source": [
    "df2.printSchema"
   ]
  },
  {
   "cell_type": "code",
   "execution_count": 8,
   "metadata": {},
   "outputs": [
    {
     "name": "stdout",
     "output_type": "stream",
     "text": [
      "root\n",
      " |-- Date: string (nullable = true)\n",
      " |-- Time: string (nullable = true)\n",
      " |-- TxnCode: string (nullable = true)\n",
      " |-- OfficeID: string (nullable = true)\n",
      " |-- Country: string (nullable = true)\n",
      " |-- Origin: string (nullable = true)\n",
      " |-- Destination: string (nullable = true)\n",
      " |-- RoundTrip: string (nullable = true)\n",
      " |-- NbSegments: string (nullable = true)\n",
      " |-- Seg1Departure: string (nullable = true)\n",
      " |-- Seg1Arrival: string (nullable = true)\n",
      " |-- Seg1Date: string (nullable = true)\n",
      " |-- Seg1Carrier: string (nullable = true)\n",
      " |-- Seg1BookingCode: string (nullable = true)\n",
      " |-- Seg2Departure: string (nullable = true)\n",
      " |-- Seg2Arrival: string (nullable = true)\n",
      " |-- Seg2Date: string (nullable = true)\n",
      " |-- Seg2Carrier: string (nullable = true)\n",
      " |-- Seg2BookingCode: string (nullable = true)\n",
      " |-- Seg3Departure: string (nullable = true)\n",
      " |-- Seg3Arrival: string (nullable = true)\n",
      " |-- Seg3Date: string (nullable = true)\n",
      " |-- Seg3Carrier: string (nullable = true)\n",
      " |-- Seg3BookingCode: string (nullable = true)\n",
      " |-- Seg4Departure: string (nullable = true)\n",
      " |-- Seg4Arrival: string (nullable = true)\n",
      " |-- Seg4Date: string (nullable = true)\n",
      " |-- Seg4Carrier: string (nullable = true)\n",
      " |-- Seg4BookingCode: string (nullable = true)\n",
      " |-- Seg5Departure: string (nullable = true)\n",
      " |-- Seg5Arrival: string (nullable = true)\n",
      " |-- Seg5Date: string (nullable = true)\n",
      " |-- Seg5Carrier: string (nullable = true)\n",
      " |-- Seg5BookingCode: string (nullable = true)\n",
      " |-- Seg6Departure: string (nullable = true)\n",
      " |-- Seg6Arrival: string (nullable = true)\n",
      " |-- Seg6Date: string (nullable = true)\n",
      " |-- Seg6Carrier: string (nullable = true)\n",
      " |-- Seg6BookingCode: string (nullable = true)\n",
      " |-- From: string (nullable = true)\n",
      " |-- IsPublishedForNeg: string (nullable = true)\n",
      " |-- IsFromInternet: string (nullable = true)\n",
      " |-- IsFromVista: string (nullable = true)\n",
      " |-- TerminalID: string (nullable = true)\n",
      " |-- InternetOffice: string (nullable = true)\n",
      "\n",
      "root\n",
      " |-- act_date: string (nullable = true)\n",
      " |-- source: string (nullable = true)\n",
      " |-- pos_ctry: string (nullable = true)\n",
      " |-- pos_iata: string (nullable = true)\n",
      " |-- pos_oid: string (nullable = true)\n",
      " |-- rloc: string (nullable = true)\n",
      " |-- cre_date: string (nullable = true)\n",
      " |-- duration: string (nullable = true)\n",
      " |-- distance: string (nullable = true)\n",
      " |-- dep_port: string (nullable = true)\n",
      " |-- dep_city: string (nullable = true)\n",
      " |-- dep_ctry: string (nullable = true)\n",
      " |-- arr_port: string (nullable = true)\n",
      " |-- arr_city: string (nullable = true)\n",
      " |-- arr_ctry: string (nullable = true)\n",
      " |-- lst_port: string (nullable = true)\n",
      " |-- lst_city: string (nullable = true)\n",
      " |-- lst_ctry: string (nullable = true)\n",
      " |-- brd_port: string (nullable = true)\n",
      " |-- brd_city: string (nullable = true)\n",
      " |-- brd_ctry: string (nullable = true)\n",
      " |-- off_port: string (nullable = true)\n",
      " |-- off_city: string (nullable = true)\n",
      " |-- off_ctry: string (nullable = true)\n",
      " |-- mkt_port: string (nullable = true)\n",
      " |-- mkt_city: string (nullable = true)\n",
      " |-- mkt_ctry: string (nullable = true)\n",
      " |-- intl: string (nullable = true)\n",
      " |-- route: string (nullable = true)\n",
      " |-- carrier: string (nullable = true)\n",
      " |-- bkg_class: string (nullable = true)\n",
      " |-- cab_class: string (nullable = true)\n",
      " |-- brd_time: string (nullable = true)\n",
      " |-- off_time: string (nullable = true)\n",
      " |-- pax: string (nullable = true)\n",
      " |-- year: string (nullable = true)\n",
      " |-- month: string (nullable = true)\n",
      " |-- oid: string (nullable = true)\n",
      "\n"
     ]
    },
    {
     "data": {
      "text/plain": [
       "df1_columns: Array[String] = Array(Date, Time, TxnCode, OfficeID, Country, Origin, Destination, RoundTrip, NbSegments, Seg1Departure, Seg1Arrival, Seg1Date, Seg1Carrier, Seg1BookingCode, Seg2Departure, Seg2Arrival, Seg2Date, Seg2Carrier, Seg2BookingCode, Seg3Departure, Seg3Arrival, Seg3Date, Seg3Carrier, Seg3BookingCode, Seg4Departure, Seg4Arrival, Seg4Date, Seg4Carrier, Seg4BookingCode, Seg5Departure, Seg5Arrival, Seg5Date, Seg5Carrier, Seg5BookingCode, Seg6Departure, Seg6Arrival, Seg6Date, Seg6Carrier, Seg6BookingCode, From, IsPublishedForNeg, IsFromInternet, IsFromVista, TerminalID, InternetOffice)\r\n",
       "df_searches: org.apache.spark.sql.DataFrame = [Date: string, Time: string ... 43 more fields]\r\n",
       "df2_columns: Array[String] = Array(act_date, source, pos_ctry, pos_iata, pos_oid, rloc, cre_..."
      ]
     },
     "execution_count": 8,
     "metadata": {},
     "output_type": "execute_result"
    }
   ],
   "source": [
    "val df1_columns = df1.columns.map(name=>name.trim)\n",
    "val df_searches = df1.toDF(df1_columns: _*)\n",
    "df_searches.printSchema\n",
    "val df2_columns = df2.columns.map(name=>name.trim)\n",
    "val df_bookings = df2.toDF(df2_columns: _*)\n",
    "df_bookings.printSchema"
   ]
  },
  {
   "cell_type": "code",
   "execution_count": null,
   "metadata": {},
   "outputs": [],
   "source": []
  }
 ],
 "metadata": {
  "kernelspec": {
   "display_name": "spylon-kernel",
   "language": "scala",
   "name": "spylon-kernel"
  },
  "language_info": {
   "codemirror_mode": "text/x-scala",
   "file_extension": ".scala",
   "help_links": [
    {
     "text": "MetaKernel Magics",
     "url": "https://metakernel.readthedocs.io/en/latest/source/README.html"
    }
   ],
   "mimetype": "text/x-scala",
   "name": "scala",
   "pygments_lexer": "scala",
   "version": "0.4.1"
  }
 },
 "nbformat": 4,
 "nbformat_minor": 2
}
